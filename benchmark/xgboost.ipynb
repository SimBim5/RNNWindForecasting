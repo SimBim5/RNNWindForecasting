{
 "cells": [
  {
   "cell_type": "code",
   "execution_count": 1,
   "metadata": {},
   "outputs": [],
   "source": [
    "import xgboost as xgb\n",
    "import pandas as pd\n",
    "import numpy as np\n",
    "import torch\n",
    "import matplotlib.pyplot as plt\n",
    "from sklearn.model_selection import train_test_split\n",
    "from sklearn.metrics import mean_squared_error, mean_absolute_error"
   ]
  },
  {
   "cell_type": "code",
   "execution_count": 2,
   "metadata": {},
   "outputs": [],
   "source": [
    "# Load Training Data\n",
    "data_path = \"../data/cache/wind_farm_data/wind_data_train_seq24_pred3_num5_normrobust_minmax_normalize_modetrain_clusternearest.pt\"\n",
    "loaded_data = torch.load(data_path)\n",
    "input_sequences = loaded_data['input_sequences_tensor'].numpy()\n",
    "ground_truth = loaded_data['ground_truth_tensor'].numpy()\n",
    "input_sequences = input_sequences[:, :-3, :]"
   ]
  },
  {
   "cell_type": "code",
   "execution_count": 3,
   "metadata": {},
   "outputs": [],
   "source": [
    "# Load Test Data\n",
    "test_data_path = \"../data/cache/wind_farm_data/wind_data_test_seq24_pred3_num5_normrobust_minmax_normalize_modetest_clusternearest.pt\"\n",
    "loaded_test_data = torch.load(test_data_path)\n",
    "input_sequences_test = loaded_test_data['input_sequences_tensor'].numpy()\n",
    "ground_truth_test = loaded_test_data['ground_truth_tensor'].numpy()\n",
    "input_sequences_test = input_sequences_test[:, :-3, :]"
   ]
  },
  {
   "cell_type": "code",
   "execution_count": 4,
   "metadata": {},
   "outputs": [
    {
     "name": "stderr",
     "output_type": "stream",
     "text": [
      "c:\\Users\\SimBim\\AppData\\Local\\Programs\\Python\\Python311\\Lib\\site-packages\\sklearn\\base.py:348: InconsistentVersionWarning: Trying to unpickle estimator RobustScaler from version 1.4.1.post1 when using version 1.3.2. This might lead to breaking code or invalid results. Use at your own risk. For more info please refer to:\n",
      "https://scikit-learn.org/stable/model_persistence.html#security-maintainability-limitations\n",
      "  warnings.warn(\n",
      "c:\\Users\\SimBim\\AppData\\Local\\Programs\\Python\\Python311\\Lib\\site-packages\\sklearn\\base.py:348: InconsistentVersionWarning: Trying to unpickle estimator MinMaxScaler from version 1.4.1.post1 when using version 1.3.2. This might lead to breaking code or invalid results. Use at your own risk. For more info please refer to:\n",
      "https://scikit-learn.org/stable/model_persistence.html#security-maintainability-limitations\n",
      "  warnings.warn(\n"
     ]
    }
   ],
   "source": [
    "# Load Weather Data for Training\n",
    "weather_data_path = \"../data/cache/weather/wind_data_train_seq24_pred3_num5_normrobust_minmax_normalize_modetrain_clusternearest_temp2m_rh2m_wind100m_winddir100m.pt\"\n",
    "loaded_weather_train = torch.load(weather_data_path)\n",
    "weather_features_train = loaded_weather_train['weather_data_tensor'].numpy()"
   ]
  },
  {
   "cell_type": "code",
   "execution_count": 5,
   "metadata": {},
   "outputs": [],
   "source": [
    "# Load Weather Data for Test\n",
    "weather_data_test_path = \"../data/cache/weather/wind_data_test_seq24_pred3_num5_normrobust_minmax_normalize_modetest_clusternearest_temp2m_rh2m_wind100m_winddir100m.pt\"\n",
    "loaded_weather_test = torch.load(weather_data_test_path)\n",
    "weather_features_test = loaded_weather_test['weather_data_tensor'].numpy()"
   ]
  },
  {
   "cell_type": "code",
   "execution_count": 6,
   "metadata": {},
   "outputs": [],
   "source": [
    "# Load Spatial Data for Training\n",
    "spatial_data_path = \"../data/cache/spatial/train_seq24_pred3_num5_clusternearest.pt\"\n",
    "spatial_data = torch.load(spatial_data_path)\n",
    "correlation = spatial_data['correlation'].numpy()\n",
    "distance = spatial_data['distance'].numpy()"
   ]
  },
  {
   "cell_type": "code",
   "execution_count": 7,
   "metadata": {},
   "outputs": [],
   "source": [
    "# Load Spatial Data for Test\n",
    "spatial_data_test_path = \"../data/cache/spatial/test_seq24_pred3_num5_clusternearest.pt\"\n",
    "spatial_data_test = torch.load(spatial_data_test_path)\n",
    "correlation_test = spatial_data_test['correlation'].numpy()\n",
    "distance_test = spatial_data_test['distance'].numpy()"
   ]
  },
  {
   "cell_type": "code",
   "execution_count": 8,
   "metadata": {},
   "outputs": [],
   "source": [
    "# Flatten the weather data for training and testing\n",
    "weather_features_train_flat = weather_features_train.reshape(weather_features_train.shape[0], -1)\n",
    "weather_features_test_flat = weather_features_test.reshape(weather_features_test.shape[0], -1)"
   ]
  },
  {
   "cell_type": "code",
   "execution_count": 9,
   "metadata": {},
   "outputs": [],
   "source": [
    "# Prepare Training Data\n",
    "X_flat = input_sequences.reshape(input_sequences.shape[0], -1)\n",
    "y_train = ground_truth\n",
    "\n",
    "# Prepare Testing Data\n",
    "X_test_flat = input_sequences_test.reshape(input_sequences_test.shape[0], -1)\n",
    "y_test = ground_truth_test"
   ]
  },
  {
   "cell_type": "code",
   "execution_count": 10,
   "metadata": {},
   "outputs": [],
   "source": [
    "X_augmented_train = np.concatenate([X_flat, weather_features_train_flat, correlation, distance], axis=1)\n",
    "X_augmented_test = np.concatenate([X_test_flat, weather_features_test_flat, correlation_test, distance_test], axis=1)"
   ]
  },
  {
   "cell_type": "code",
   "execution_count": 11,
   "metadata": {},
   "outputs": [],
   "source": [
    "models = []\n",
    "predictions = []\n",
    "\n",
    "for i in range(3):\n",
    "    model = xgb.XGBRegressor(objective='reg:squarederror')\n",
    "    model.fit(X_augmented_train, y_train[:, i]) \n",
    "    models.append(model)\n",
    "    pred = model.predict(X_augmented_test)\n",
    "    predictions.append(pred)"
   ]
  },
  {
   "cell_type": "code",
   "execution_count": 15,
   "metadata": {},
   "outputs": [
    {
     "name": "stdout",
     "output_type": "stream",
     "text": [
      "  Metric  Target 1  Target 2  Target 3   Overall\n",
      "0    MSE  0.024103  0.035430  0.047597  0.035710\n",
      "1   RMSE  0.155251  0.188229  0.218168  0.187216\n",
      "2    MAE  0.111349  0.139989  0.165913  0.139084\n",
      "3    MBE  0.000716  0.001493  0.002297  0.001502\n",
      "4  MAAPE  0.357780  0.439015  0.553706  0.450167\n"
     ]
    },
    {
     "name": "stderr",
     "output_type": "stream",
     "text": [
      "C:\\Users\\SimBim\\AppData\\Local\\Temp\\ipykernel_15636\\868852599.py:12: RuntimeWarning: divide by zero encountered in divide\n",
      "  maape = np.mean(np.arctan(np.abs((y_test[:, i, :] - predictions[i].reshape(-1, 5))) / np.abs(y_test[:, i, :])))\n",
      "C:\\Users\\SimBim\\AppData\\Local\\Temp\\ipykernel_15636\\868852599.py:12: RuntimeWarning: divide by zero encountered in divide\n",
      "  maape = np.mean(np.arctan(np.abs((y_test[:, i, :] - predictions[i].reshape(-1, 5))) / np.abs(y_test[:, i, :])))\n",
      "C:\\Users\\SimBim\\AppData\\Local\\Temp\\ipykernel_15636\\868852599.py:12: RuntimeWarning: divide by zero encountered in divide\n",
      "  maape = np.mean(np.arctan(np.abs((y_test[:, i, :] - predictions[i].reshape(-1, 5))) / np.abs(y_test[:, i, :])))\n"
     ]
    }
   ],
   "source": [
    "mse_values = []\n",
    "mae_values = []\n",
    "rmse_values = []\n",
    "mbe_values = []\n",
    "maape_values = []\n",
    "\n",
    "for i in range(3):\n",
    "    mse = mean_squared_error(y_test[:, i, :], predictions[i].reshape(-1, 5))\n",
    "    mae = mean_absolute_error(y_test[:, i, :], predictions[i].reshape(-1, 5))\n",
    "    rmse = np.sqrt(mse)\n",
    "    mbe = np.mean(predictions[i].reshape(-1, 5) - y_test[:, i, :])\n",
    "    maape = np.mean(np.arctan(np.abs((y_test[:, i, :] - predictions[i].reshape(-1, 5))) / np.abs(y_test[:, i, :])))\n",
    "    \n",
    "    mse_values.append(mse)\n",
    "    mae_values.append(mae)\n",
    "    rmse_values.append(rmse)\n",
    "    mbe_values.append(mbe)\n",
    "    maape_values.append(maape)\n",
    "\n",
    "overall_mse = np.mean(mse_values)\n",
    "overall_mae = np.mean(mae_values)\n",
    "overall_rmse = np.mean(rmse_values)\n",
    "overall_mbe = np.mean(mbe_values)\n",
    "overall_maape = np.mean(maape_values)\n",
    "\n",
    "error_metrics_df = pd.DataFrame({\n",
    "    'Metric': ['MSE', 'RMSE', 'MAE', 'MBE', 'MAAPE'],\n",
    "    'Target 1': [mse_values[0], rmse_values[0], mae_values[0], mbe_values[0], maape_values[0]],\n",
    "    'Target 2': [mse_values[1], rmse_values[1], mae_values[1], mbe_values[1], maape_values[1]],\n",
    "    'Target 3': [mse_values[2], rmse_values[2], mae_values[2], mbe_values[2], maape_values[2]],\n",
    "    'Overall': [overall_mse, overall_rmse, overall_mae, overall_mbe, overall_maape]\n",
    "})\n",
    "\n",
    "print(error_metrics_df)"
   ]
  },
  {
   "cell_type": "code",
   "execution_count": 16,
   "metadata": {},
   "outputs": [
    {
     "data": {
      "application/vnd.jupyter.widget-view+json": {
       "model_id": "27c6469751754a1da79630368fc1d1c6",
       "version_major": 2,
       "version_minor": 0
      },
      "text/plain": [
       "IntSlider(value=0, description='Example Index:', max=66409, style=SliderStyle(description_width='initial'))"
      ]
     },
     "metadata": {},
     "output_type": "display_data"
    },
    {
     "data": {
      "application/vnd.jupyter.widget-view+json": {
       "model_id": "087c6f0a700c426983b7b2723cadb298",
       "version_major": 2,
       "version_minor": 0
      },
      "text/plain": [
       "Output()"
      ]
     },
     "metadata": {},
     "output_type": "display_data"
    }
   ],
   "source": [
    "import seaborn as sns\n",
    "import ipywidgets as widgets\n",
    "from ipywidgets import Layout, Button, HBox, VBox\n",
    "\n",
    "sns.set_theme(style=\"darkgrid\", palette=\"mako\")\n",
    "sns.set_context(\"talk\")\n",
    "\n",
    "predictions_reshaped = np.array(predictions).T.reshape(-1, 3, 5)\n",
    "example_index_slider = widgets.IntSlider(value=0, min=0, max=len(y_test)-1, step=1, description='Example Index:', readout=True, style={'description_width': 'initial'})\n",
    "output_plot = widgets.Output()\n",
    "\n",
    "def plot_results(example_index):\n",
    "    output_plot.clear_output()\n",
    "    with output_plot:\n",
    "        for feature in range(5):\n",
    "            fig, ax = plt.subplots(figsize=(17, 1.5))\n",
    "            historical_series = input_sequences[example_index, :, feature]\n",
    "            \n",
    "            x_historical_series = list(range(1, 25))\n",
    "            sns.lineplot(x=x_historical_series, y=historical_series, marker='o', dashes=False, color='#165DB1', ax=ax)\n",
    "            \n",
    "            full_ground_truth_series = np.concatenate([historical_series[-1:], y_test[example_index, :, feature]])\n",
    "            full_prediction_series = np.concatenate([historical_series[-1:], predictions_reshaped[example_index, :, feature]])\n",
    "            \n",
    "            \n",
    "            x_extended_series = list(range(24, 28))\n",
    "            \n",
    "            sns.lineplot(x=x_extended_series, y=full_ground_truth_series, marker='o', dashes=True, color='#165DB1', ax=ax)\n",
    "            sns.lineplot(x=x_extended_series, y=full_prediction_series, marker='o', dashes=True, color='#C680BB', ax=ax)\n",
    "\n",
    "            ax.set_xlabel('')\n",
    "            ax.set_ylabel('')\n",
    "            ax.set_xticks([])\n",
    "            ax.set_yticks([])\n",
    "\n",
    "            mae = mean_absolute_error(y_test[example_index, :, feature], predictions_reshaped[example_index, :, feature])\n",
    "            mse = mean_squared_error(y_test[example_index, :, feature], predictions_reshaped[example_index, :, feature])\n",
    "            \n",
    "            metrics_text = f\"Wind Farm {feature+1}\\n\\nMAE: {mae:.5f}\\nMSE: {mse:.5f}\"\n",
    "            ax.text(1.05, 0.5, metrics_text, transform=ax.transAxes, fontsize=15, verticalalignment='center', bbox=dict(facecolor='white', edgecolor='black', boxstyle='round,pad=1'))\n",
    "\n",
    "            sns.despine()\n",
    "            plt.legend([],[], frameon=False)\n",
    "            plt.show()\n",
    "\n",
    "def example_index_changed(change):\n",
    "    plot_results(change['new'])\n",
    "\n",
    "example_index_slider.observe(example_index_changed, names='value')\n",
    "\n",
    "display(example_index_slider, output_plot)\n",
    "plot_results(example_index_slider.value)\n"
   ]
  }
 ],
 "metadata": {
  "kernelspec": {
   "display_name": "Python 3",
   "language": "python",
   "name": "python3"
  },
  "language_info": {
   "codemirror_mode": {
    "name": "ipython",
    "version": 3
   },
   "file_extension": ".py",
   "mimetype": "text/x-python",
   "name": "python",
   "nbconvert_exporter": "python",
   "pygments_lexer": "ipython3",
   "version": "3.11.6"
  }
 },
 "nbformat": 4,
 "nbformat_minor": 2
}

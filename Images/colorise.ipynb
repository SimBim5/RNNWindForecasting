{
 "cells": [
  {
   "cell_type": "code",
   "execution_count": 3,
   "metadata": {},
   "outputs": [],
   "source": [
    "from PIL import Image\n",
    "import numpy as np\n",
    "\n",
    "def recolor_image_to_specific_colors(image_path, output_dir, colors):\n",
    "    image = Image.open(image_path)\n",
    "    image = image.convert(\"RGBA\")\n",
    "    data = np.array(image)\n",
    "    \n",
    "    def recolor_black(data, new_color):\n",
    "        black_pixels = (data[:, :, 0] == 0) & (data[:, :, 1] == 0) & (data[:, :, 2] == 0)\n",
    "        data[..., :3][black_pixels] = new_color\n",
    "        return data\n",
    "    \n",
    "    for color_name, new_color in colors.items():\n",
    "        new_data = recolor_black(np.array(data), new_color)\n",
    "        new_image = Image.fromarray(new_data)\n",
    "        new_image.save(f\"{output_dir}/turbine_icon_{color_name}.png\")\n",
    "\n",
    "colors = {\n",
    "    \"tum-brown\": [61, 58, 44]\n",
    "}\n",
    "\n",
    "original_image_path = 'wind_turbine.png'\n",
    "output_directory = 'wind_turbines_icons'\n",
    "\n",
    "recolor_image_to_specific_colors(original_image_path, output_directory, colors)\n"
   ]
  }
 ],
 "metadata": {
  "kernelspec": {
   "display_name": "Python 3",
   "language": "python",
   "name": "python3"
  },
  "language_info": {
   "codemirror_mode": {
    "name": "ipython",
    "version": 3
   },
   "file_extension": ".py",
   "mimetype": "text/x-python",
   "name": "python",
   "nbconvert_exporter": "python",
   "pygments_lexer": "ipython3",
   "version": "3.11.6"
  }
 },
 "nbformat": 4,
 "nbformat_minor": 2
}
